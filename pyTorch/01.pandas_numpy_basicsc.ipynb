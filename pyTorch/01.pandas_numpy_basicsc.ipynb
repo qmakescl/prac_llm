{
 "cells": [
  {
   "cell_type": "markdown",
   "id": "001ee3c7",
   "metadata": {},
   "source": [
    "## pandas"
   ]
  },
  {
   "cell_type": "code",
   "execution_count": 2,
   "id": "5bb6fd90",
   "metadata": {},
   "outputs": [],
   "source": [
    "import pandas as pd"
   ]
  },
  {
   "cell_type": "markdown",
   "id": "dd466daa",
   "metadata": {},
   "source": [
    "\n",
    "\n",
    "### 데이터 구조\n",
    "\n",
    "- 시리즈(Series)\n",
    "- 데이터프레임(DataFrame)\n",
    "- 패널(Panel)\n",
    "\n",
    "\n",
    "#### 시리즈\n",
    "\n",
    "1차원 배열(리스트?)의 각 값에 대응하는 인덱스(index)를 부여할 수 있는 구조"
   ]
  },
  {
   "cell_type": "code",
   "execution_count": 3,
   "id": "3acc4389",
   "metadata": {},
   "outputs": [
    {
     "name": "stdout",
     "output_type": "stream",
     "text": [
      "a    1\n",
      "b    3\n",
      "c    5\n",
      "d    7\n",
      "e    9\n",
      "dtype: int64\n"
     ]
    }
   ],
   "source": [
    "sr = pd.Series([1, 3, 5, 7, 9], \n",
    "                index=['a', 'b', 'c', 'd', 'e'])\n",
    "\n",
    "print( sr)"
   ]
  },
  {
   "cell_type": "code",
   "execution_count": null,
   "id": "f36a9b1d",
   "metadata": {},
   "outputs": [
    {
     "name": "stdout",
     "output_type": "stream",
     "text": [
      "첫번째 원소의 값 : 1\n",
      "인덱스 a의 값 : 1\n"
     ]
    },
    {
     "name": "stderr",
     "output_type": "stream",
     "text": [
      "/var/folders/yk/h0rjbtkn3nnftjqpgc3nq_nw0000gn/T/ipykernel_44115/3537657902.py:1: FutureWarning: Series.__getitem__ treating keys as positions is deprecated. In a future version, integer keys will always be treated as labels (consistent with DataFrame behavior). To access a value by position, use `ser.iloc[pos]`\n",
      "  print( f\"첫번째 원소의 값 : {sr[0]}\")\n"
     ]
    }
   ],
   "source": [
    "print( f\"첫번째 원소의 값 : {sr[0]}\")       # 현재 출력 가능하나 향후 위치값으로 접근하는 것은 deprecate 할 예정\n",
    "print( f\"인덱스 a의 값 : {sr['a']}\")"
   ]
  },
  {
   "cell_type": "code",
   "execution_count": null,
   "id": "d1667eb7",
   "metadata": {},
   "outputs": [
    {
     "name": "stdout",
     "output_type": "stream",
     "text": [
      "index : a, value : 1\n",
      "index : b, value : 3\n",
      "index : c, value : 5\n",
      "index : d, value : 7\n",
      "index : e, value : 9\n"
     ]
    }
   ],
   "source": [
    "# .items() 를 이용해서 인덱스와 값 추출\n",
    "for index, value in sr.items():\n",
    "    print( f\"index : {index}, value : {value}\")"
   ]
  },
  {
   "cell_type": "code",
   "execution_count": 8,
   "id": "e4404126",
   "metadata": {},
   "outputs": [
    {
     "name": "stdout",
     "output_type": "stream",
     "text": [
      "values : [1 3 5 7 9]\n",
      "index : Index(['a', 'b', 'c', 'd', 'e'], dtype='object')\n"
     ]
    }
   ],
   "source": [
    "# .values 와 .index 로 값과 인덱스 추출\n",
    "print( f\"values : {sr.values}\\nindex : {sr.index}\" )"
   ]
  },
  {
   "cell_type": "markdown",
   "id": "9b6ab562",
   "metadata": {},
   "source": [
    "#### 데이터프레임\n",
    "\n",
    "- 2차원 리스트를 행과 열로 구성\n",
    "- index와 column으로 구성\n",
    "    - 1차원 리스트를 행으로 결합 (기본값)"
   ]
  },
  {
   "cell_type": "code",
   "execution_count": 3,
   "id": "33cb43d1",
   "metadata": {},
   "outputs": [
    {
     "name": "stdout",
     "output_type": "stream",
     "text": [
      "   col1  col2  col3\n",
      "1     1     2     3\n",
      "2     4     5     6\n",
      "3     7     8     9\n"
     ]
    }
   ],
   "source": [
    "values = [[1, 2, 3], [4, 5, 6], [7, 8, 9]]\n",
    "index = range(1, 4)\n",
    "columns = ['col1', 'col2', 'col3']\n",
    "\n",
    "df = pd.DataFrame(values, index=index, columns=columns)\n",
    "print( df )"
   ]
  },
  {
   "cell_type": "code",
   "execution_count": null,
   "id": "a129e496",
   "metadata": {},
   "outputs": [
    {
     "name": "stdout",
     "output_type": "stream",
     "text": [
      "column name : col1,\n",
      "column data : \n",
      "1    1\n",
      "2    4\n",
      "3    7\n",
      "Name: col1, dtype: int64\n",
      "\n",
      "column name : col2,\n",
      "column data : \n",
      "1    2\n",
      "2    5\n",
      "3    8\n",
      "Name: col2, dtype: int64\n",
      "\n",
      "column name : col3,\n",
      "column data : \n",
      "1    3\n",
      "2    6\n",
      "3    9\n",
      "Name: col3, dtype: int64\n",
      "\n"
     ]
    }
   ],
   "source": [
    "# 마찬가지로 .items() 를 이용해서 접근\n",
    "# 이때 열을 통째로 전달\n",
    "for column_name, column in df.items():\n",
    "    print( f\"column name : {column_name},\\ncolumn data : \\n{column}\\n\" )"
   ]
  },
  {
   "cell_type": "code",
   "execution_count": null,
   "id": "56d0c9ab",
   "metadata": {},
   "outputs": [
    {
     "name": "stdout",
     "output_type": "stream",
     "text": [
      "row index : 1, row data : \n",
      "col1    1\n",
      "col2    2\n",
      "col3    3\n",
      "Name: 1, dtype: int64\n",
      "\n",
      "row index : 2, row data : \n",
      "col1    4\n",
      "col2    5\n",
      "col3    6\n",
      "Name: 2, dtype: int64\n",
      "\n",
      "row index : 3, row data : \n",
      "col1    7\n",
      "col2    8\n",
      "col3    9\n",
      "Name: 3, dtype: int64\n",
      "\n"
     ]
    }
   ],
   "source": [
    "# .iterrows() 를 이용하여 행 단위로 접근\n",
    "for r, c in df.iterrows():\n",
    "    print( f\"row index : {r}, row data : \\n{c}\\n\" )"
   ]
  },
  {
   "cell_type": "code",
   "execution_count": null,
   "id": "2d6dcf87",
   "metadata": {},
   "outputs": [
    {
     "name": "stdout",
     "output_type": "stream",
     "text": [
      "DataFrame values : \n",
      "[[1 2 3]\n",
      " [4 5 6]\n",
      " [7 8 9]]\n",
      "\n",
      "DataFrame index : \n",
      "RangeIndex(start=1, stop=4, step=1)\n",
      "\n",
      "DataFrame columns : \n",
      "Index(['col1', 'col2', 'col3'], dtype='object')\n",
      "\n"
     ]
    }
   ],
   "source": [
    "# values, index와 columns 를 사용해 각각을 가져올 수 있음\n",
    "print( f\"DataFrame values : \\n{df.values}\\n\")\n",
    "print( f\"DataFrame index : \\n{df.index}\\n\")\n",
    "print( f\"DataFrame columns : \\n{df.columns}\\n\")"
   ]
  },
  {
   "cell_type": "code",
   "execution_count": null,
   "id": "7bec1fb7",
   "metadata": {},
   "outputs": [
    {
     "name": "stdout",
     "output_type": "stream",
     "text": [
      "  col1  col2  col3\n",
      "0    1     5     9\n",
      "1    2     6    10\n",
      "2    3     7    11\n",
      "3    4     8    12\n"
     ]
    }
   ],
   "source": [
    "# dictionary 는 바로 데이터프레임으로 변형 가능\n",
    "# 이때 키에 값이 리스트로 존재하고 모든 키들의 리스트의 크기는 동일(broadcasting 불가)\n",
    "# key 별로 컬럼 생성\n",
    "data = {'col1': [\"1\", \"2\", \"3\", \"4\"],\n",
    "        'col2': [5, 6, 7, 8],\n",
    "        'col3': [9, 10, 11, 12]}\n",
    "df = pd.DataFrame(data)\n",
    "print( df )"
   ]
  },
  {
   "cell_type": "code",
   "execution_count": 4,
   "id": "8c7e32d9",
   "metadata": {},
   "outputs": [
    {
     "data": {
      "text/html": [
       "<div>\n",
       "<style scoped>\n",
       "    .dataframe tbody tr th:only-of-type {\n",
       "        vertical-align: middle;\n",
       "    }\n",
       "\n",
       "    .dataframe tbody tr th {\n",
       "        vertical-align: top;\n",
       "    }\n",
       "\n",
       "    .dataframe thead th {\n",
       "        text-align: right;\n",
       "    }\n",
       "</style>\n",
       "<table border=\"1\" class=\"dataframe\">\n",
       "  <thead>\n",
       "    <tr style=\"text-align: right;\">\n",
       "      <th></th>\n",
       "      <th>col1</th>\n",
       "      <th>col2</th>\n",
       "      <th>col3</th>\n",
       "    </tr>\n",
       "  </thead>\n",
       "  <tbody>\n",
       "    <tr>\n",
       "      <th>1</th>\n",
       "      <td>1</td>\n",
       "      <td>2</td>\n",
       "      <td>3</td>\n",
       "    </tr>\n",
       "    <tr>\n",
       "      <th>2</th>\n",
       "      <td>4</td>\n",
       "      <td>5</td>\n",
       "      <td>6</td>\n",
       "    </tr>\n",
       "    <tr>\n",
       "      <th>3</th>\n",
       "      <td>7</td>\n",
       "      <td>8</td>\n",
       "      <td>9</td>\n",
       "    </tr>\n",
       "  </tbody>\n",
       "</table>\n",
       "</div>"
      ],
      "text/plain": [
       "   col1  col2  col3\n",
       "1     1     2     3\n",
       "2     4     5     6\n",
       "3     7     8     9"
      ]
     },
     "execution_count": 4,
     "metadata": {},
     "output_type": "execute_result"
    }
   ],
   "source": [
    "# 데이터프레임 탐색\n",
    "df.head()"
   ]
  },
  {
   "cell_type": "code",
   "execution_count": 5,
   "id": "0590e5e4",
   "metadata": {},
   "outputs": [
    {
     "data": {
      "text/html": [
       "<div>\n",
       "<style scoped>\n",
       "    .dataframe tbody tr th:only-of-type {\n",
       "        vertical-align: middle;\n",
       "    }\n",
       "\n",
       "    .dataframe tbody tr th {\n",
       "        vertical-align: top;\n",
       "    }\n",
       "\n",
       "    .dataframe thead th {\n",
       "        text-align: right;\n",
       "    }\n",
       "</style>\n",
       "<table border=\"1\" class=\"dataframe\">\n",
       "  <thead>\n",
       "    <tr style=\"text-align: right;\">\n",
       "      <th></th>\n",
       "      <th>col1</th>\n",
       "      <th>col2</th>\n",
       "      <th>col3</th>\n",
       "    </tr>\n",
       "  </thead>\n",
       "  <tbody>\n",
       "    <tr>\n",
       "      <th>2</th>\n",
       "      <td>4</td>\n",
       "      <td>5</td>\n",
       "      <td>6</td>\n",
       "    </tr>\n",
       "    <tr>\n",
       "      <th>3</th>\n",
       "      <td>7</td>\n",
       "      <td>8</td>\n",
       "      <td>9</td>\n",
       "    </tr>\n",
       "  </tbody>\n",
       "</table>\n",
       "</div>"
      ],
      "text/plain": [
       "   col1  col2  col3\n",
       "2     4     5     6\n",
       "3     7     8     9"
      ]
     },
     "execution_count": 5,
     "metadata": {},
     "output_type": "execute_result"
    }
   ],
   "source": [
    "df.tail(2)"
   ]
  },
  {
   "cell_type": "code",
   "execution_count": 6,
   "id": "d99e569d",
   "metadata": {},
   "outputs": [
    {
     "data": {
      "text/plain": [
       "1    1\n",
       "2    4\n",
       "3    7\n",
       "Name: col1, dtype: int64"
      ]
     },
     "execution_count": 6,
     "metadata": {},
     "output_type": "execute_result"
    }
   ],
   "source": [
    "df[\"col1\"]"
   ]
  },
  {
   "cell_type": "markdown",
   "id": "542a5896",
   "metadata": {},
   "source": [
    "## Numpy"
   ]
  },
  {
   "cell_type": "code",
   "execution_count": 7,
   "id": "b82e6575",
   "metadata": {},
   "outputs": [],
   "source": [
    "import numpy as np"
   ]
  },
  {
   "cell_type": "code",
   "execution_count": 10,
   "id": "9b9a07b1",
   "metadata": {},
   "outputs": [
    {
     "name": "stdout",
     "output_type": "stream",
     "text": [
      "1차원 배열 : [1 2 3 4 5], \n",
      "shape : (5,)\n"
     ]
    }
   ],
   "source": [
    "# 1차원 배열 생성\n",
    "v1 = np.array([1, 2, 3, 4, 5])\n",
    "print( f\"1차원 배열 : {v1}, \\nshape : {v1.shape}\")"
   ]
  },
  {
   "cell_type": "code",
   "execution_count": 11,
   "id": "7d1629c0",
   "metadata": {},
   "outputs": [
    {
     "name": "stdout",
     "output_type": "stream",
     "text": [
      "2차원 배열 : [[1 2 3]\n",
      " [4 5 6]], \n",
      "shape : (2, 3)\n"
     ]
    }
   ],
   "source": [
    "# 2차원 배열 생성\n",
    "v2 = np.array([[1, 2, 3], [4, 5, 6]])\n",
    "print( f\"2차원 배열 : {v2}, \\nshape : {v2.shape}\")"
   ]
  },
  {
   "cell_type": "code",
   "execution_count": 12,
   "id": "c83a2071",
   "metadata": {},
   "outputs": [
    {
     "name": "stdout",
     "output_type": "stream",
     "text": [
      "다차원 배열 : [[[ 1  2  3]\n",
      "  [ 4  5  6]]\n",
      "\n",
      " [[ 7  8  9]\n",
      "  [10 11 12]]], \n",
      "shape : (2, 2, 3)\n"
     ]
    }
   ],
   "source": [
    "# 다차원 배열 생성\n",
    "v3 = np.array([[[1, 2, 3], [4, 5, 6]], [[7, 8, 9], [10, 11, 12]]])\n",
    "print( f\"다차원 배열 : {v3}, \\nshape : {v3.shape}\")"
   ]
  },
  {
   "cell_type": "code",
   "execution_count": null,
   "id": "083c8e8a",
   "metadata": {},
   "outputs": [],
   "source": []
  }
 ],
 "metadata": {
  "kernelspec": {
   "display_name": "prac_llm (3.11.12)",
   "language": "python",
   "name": "python3"
  },
  "language_info": {
   "codemirror_mode": {
    "name": "ipython",
    "version": 3
   },
   "file_extension": ".py",
   "mimetype": "text/x-python",
   "name": "python",
   "nbconvert_exporter": "python",
   "pygments_lexer": "ipython3",
   "version": "3.11.12"
  }
 },
 "nbformat": 4,
 "nbformat_minor": 5
}
