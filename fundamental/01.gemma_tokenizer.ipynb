{
 "cells": [
  {
   "cell_type": "markdown",
   "id": "6af54542",
   "metadata": {},
   "source": [
    "# Gemma Tokenizer\n",
    "\n",
    "from https://gemma-llm.readthedocs.io/en/latest/colab_tokenizer.html"
   ]
  },
  {
   "cell_type": "markdown",
   "id": "8f31400a",
   "metadata": {},
   "source": [
    "# !pip install -q gemma"
   ]
  },
  {
   "cell_type": "code",
   "execution_count": 1,
   "id": "8629c286",
   "metadata": {},
   "outputs": [],
   "source": [
    "# Common imports\n",
    "\n",
    "# Gemma imports\n",
    "from gemma import gm"
   ]
  },
  {
   "cell_type": "markdown",
   "id": "2cbb98a6",
   "metadata": {},
   "source": [
    "### Tokenizer Basic"
   ]
  },
  {
   "cell_type": "code",
   "execution_count": 2,
   "id": "32e483da",
   "metadata": {},
   "outputs": [],
   "source": [
    "tokenizer = gm.text.Gemma3Tokenizer()"
   ]
  },
  {
   "cell_type": "code",
   "execution_count": 3,
   "id": "c013e967",
   "metadata": {},
   "outputs": [
    {
     "ename": "",
     "evalue": "",
     "output_type": "error",
     "traceback": [
      "\u001b[1;31mThe Kernel crashed while executing code in the current cell or a previous cell. \n",
      "\u001b[1;31mPlease review the code in the cell(s) to identify a possible cause of the failure. \n",
      "\u001b[1;31mClick <a href='https://aka.ms/vscodeJupyterKernelCrash'>here</a> for more info. \n",
      "\u001b[1;31mView Jupyter <a href='command:jupyter.viewOutput'>log</a> for further details."
     ]
    }
   ],
   "source": [
    "tokenizer.vocab_size"
   ]
  },
  {
   "cell_type": "code",
   "execution_count": null,
   "id": "693767f7",
   "metadata": {},
   "outputs": [],
   "source": [
    "#### Encoding"
   ]
  },
  {
   "cell_type": "code",
   "execution_count": null,
   "id": "987586ee",
   "metadata": {},
   "outputs": [],
   "source": [
    "tokenizer.encode('Derinkuyu is an underground city.')"
   ]
  }
 ],
 "metadata": {
  "kernelspec": {
   "display_name": "prac_llm (3.11.12)",
   "language": "python",
   "name": "python3"
  },
  "language_info": {
   "codemirror_mode": {
    "name": "ipython",
    "version": 3
   },
   "file_extension": ".py",
   "mimetype": "text/x-python",
   "name": "python",
   "nbconvert_exporter": "python",
   "pygments_lexer": "ipython3",
   "version": "3.11.12"
  }
 },
 "nbformat": 4,
 "nbformat_minor": 5
}
